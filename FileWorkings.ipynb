{
 "cells": [
  {
   "cell_type": "markdown",
   "id": "4c3b6d5d",
   "metadata": {},
   "source": [
    "# FileManager - Workings"
   ]
  },
  {
   "cell_type": "markdown",
   "id": "47c7d5dd",
   "metadata": {},
   "source": [
    "The purpose of this notebook is to allow for some testing of and workings on processes related to the FileManager project.\n",
    "\n",
    "The assumed directory/file structure for this notebook is as follows:\n",
    "\n",
    "- QuizWorkings.ipynb  \n",
    "- assets/\n",
    "  - images/\n",
    "    - IMG_20180703_205212.jpg"
   ]
  },
  {
   "cell_type": "markdown",
   "id": "0c495b40",
   "metadata": {},
   "source": [
    "## Table Of Contents"
   ]
  },
  {
   "cell_type": "markdown",
   "id": "f6f8305b",
   "metadata": {},
   "source": [
    "* **0.** [Dependancies and Settings](#0-Dependancies-and-Settings)  \n",
    "* **1.** [Looking at Metadata](#1-Looking-at-Metadata)  "
   ]
  },
  {
   "cell_type": "markdown",
   "id": "38c46f5c",
   "metadata": {},
   "source": [
    "## 0 Dependancies and Settings"
   ]
  },
  {
   "cell_type": "markdown",
   "id": "eb1b74cd",
   "metadata": {},
   "source": [
    "Using `pathlib` as it is cross-platform:"
   ]
  },
  {
   "cell_type": "code",
   "execution_count": 1,
   "id": "83cb34a2",
   "metadata": {},
   "outputs": [],
   "source": [
    "from pathlib import Path"
   ]
  },
  {
   "cell_type": "markdown",
   "id": "b8d80c35",
   "metadata": {},
   "source": [
    "Using `platform` to check users current system:"
   ]
  },
  {
   "cell_type": "code",
   "execution_count": 2,
   "id": "4431d4a8",
   "metadata": {},
   "outputs": [],
   "source": [
    "import platform"
   ]
  },
  {
   "cell_type": "markdown",
   "id": "5b3eb7c3",
   "metadata": {},
   "source": [
    "Using `time` and `datetime` for waiting and conversion:"
   ]
  },
  {
   "cell_type": "code",
   "execution_count": 14,
   "id": "04ab6bc7",
   "metadata": {},
   "outputs": [],
   "source": [
    "import time\n",
    "from datetime import datetime"
   ]
  },
  {
   "cell_type": "markdown",
   "id": "2fe400cb",
   "metadata": {},
   "source": [
    "`math` for simple operations:"
   ]
  },
  {
   "cell_type": "code",
   "execution_count": 31,
   "id": "946d6302",
   "metadata": {},
   "outputs": [],
   "source": [
    "import math"
   ]
  },
  {
   "cell_type": "markdown",
   "id": "7259869b",
   "metadata": {},
   "source": [
    "Current working directory for ease use:"
   ]
  },
  {
   "cell_type": "code",
   "execution_count": 3,
   "id": "a0917f47",
   "metadata": {},
   "outputs": [
    {
     "data": {
      "text/plain": [
       "WindowsPath('C:/Users/seani/Documents/Projects/FileManager')"
      ]
     },
     "execution_count": 3,
     "metadata": {},
     "output_type": "execute_result"
    }
   ],
   "source": [
    "cwd = Path.cwd()\n",
    "cwd"
   ]
  },
  {
   "cell_type": "markdown",
   "id": "d0f8181e",
   "metadata": {},
   "source": [
    "## 1 Looking at Metadata"
   ]
  },
  {
   "cell_type": "markdown",
   "id": "4e2bf102",
   "metadata": {},
   "source": [
    "In this section we will investigate methods to look at file metadata.\n",
    "\n",
    "Main images directory:"
   ]
  },
  {
   "cell_type": "code",
   "execution_count": 4,
   "id": "c48267ca",
   "metadata": {},
   "outputs": [
    {
     "data": {
      "text/plain": [
       "WindowsPath('C:/Users/seani/Documents/Projects/FileManager/assets/images')"
      ]
     },
     "execution_count": 4,
     "metadata": {},
     "output_type": "execute_result"
    }
   ],
   "source": [
    "img = cwd / \"assets\\images\"\n",
    "img"
   ]
  },
  {
   "cell_type": "markdown",
   "id": "c684c0f2",
   "metadata": {},
   "source": [
    "### 1.1 Single image file"
   ]
  },
  {
   "cell_type": "markdown",
   "id": "e04eda30",
   "metadata": {},
   "source": [
    "First, let's obtain a single image file: `IMG_20180703_205212.jpg`"
   ]
  },
  {
   "cell_type": "code",
   "execution_count": 5,
   "id": "e316c55d",
   "metadata": {},
   "outputs": [
    {
     "data": {
      "text/plain": [
       "WindowsPath('C:/Users/seani/Documents/Projects/FileManager/assets/images/IMG_20180703_205212.jpg')"
      ]
     },
     "execution_count": 5,
     "metadata": {},
     "output_type": "execute_result"
    }
   ],
   "source": [
    "path = img / \"IMG_20180703_205212.jpg\"\n",
    "path"
   ]
  },
  {
   "cell_type": "markdown",
   "id": "1a93041b",
   "metadata": {},
   "source": [
    "We can look at its statdata:"
   ]
  },
  {
   "cell_type": "code",
   "execution_count": 6,
   "id": "1901557c",
   "metadata": {},
   "outputs": [
    {
     "data": {
      "text/plain": [
       "os.stat_result(st_mode=33206, st_ino=5629499534378696, st_dev=2457206766, st_nlink=1, st_uid=0, st_gid=0, st_size=3855920, st_atime=1687521588, st_mtime=1687474906, st_ctime=1687474906)"
      ]
     },
     "execution_count": 6,
     "metadata": {},
     "output_type": "execute_result"
    }
   ],
   "source": [
    "statdata = path.stat()\n",
    "statdata"
   ]
  },
  {
   "cell_type": "markdown",
   "id": "4ba90bea",
   "metadata": {},
   "source": [
    "There are numerous timestamps to look at:\n",
    "\n",
    "- Time of last access (`st_atime`)\n",
    "- Time of last change (`st_ctime`)\n",
    "- Time of last modification (`st_mtime`)\n",
    "\n",
    "\n",
    "Depending on the OS used, these timestamps can mean different things. On Windows - for files of image or video type - it is likely that `ctime` and `mtime` are the same. For files that are modified regularly (eg: `.txt` files), `ctime` likely refers to the time of creation (although not always). On Mac, we can look at a parameter `st_birthtime` for the creation timestamp. For Linux systems, it is more difficult to obtain creation dates, so the best estimate may be `mtime`. *Explanation for this can be found in [this stack overflow answer](https://stackoverflow.com/questions/237079/how-do-i-get-file-creation-and-modification-date-times/39501288#39501288).*\n",
    "\n",
    "*NOTE: the `st_ino` parameter details the inode of the file. Explanation of an inode is not important here, but note that every file in any Unix system has an inode, which contains the files metaparameters.*\n",
    "\n",
    "As a quick aside to test this, let's create a text-file, wait 10 seconds, then modify it, wait 10 seconds, then access it. We can then check these timestamps to see what's different. First, let's define a function to convert Unix timestamps to `YYYY-MM-DD H-M-S` format:"
   ]
  },
  {
   "cell_type": "code",
   "execution_count": 24,
   "id": "ca9c73aa",
   "metadata": {},
   "outputs": [],
   "source": [
    "def unix_to_readable_timestamp(timestamp):\n",
    "    '''\n",
    "    Converts a timestamp from Unix (epoch in 00:00:00 UTC on 1 Jan 1970) to a readable format.\n",
    "    '''\n",
    "    \n",
    "    # convert date from Unix to UTC\n",
    "    converted = datetime.utcfromtimestamp(timestamp)\n",
    "    # format in readable time\n",
    "    formatted = converted.strftime('%Y-%m-%d %H:%M:%S')\n",
    "    \n",
    "    return formatted"
   ]
  },
  {
   "cell_type": "code",
   "execution_count": 27,
   "id": "1e496eaf",
   "metadata": {},
   "outputs": [
    {
     "name": "stdout",
     "output_type": "stream",
     "text": [
      "File created.\n",
      "\n",
      "timestamp: 1687623071.9826910 --> 2023-06-24 16:11:11\n",
      "atime:     1687623071.9816937 --> 2023-06-24 16:11:11\n",
      "ctime:     1687623071.9807999 --> 2023-06-24 16:11:11\n",
      "mtime:     1687623071.9816937 --> 2023-06-24 16:11:11\n",
      "\n",
      "Modifying file...\n",
      "\n",
      "timestamp: 1687623081.9936018 --> 2023-06-24 16:11:21\n",
      "atime:     1687623081.9936018 --> 2023-06-24 16:11:21\n",
      "ctime:     1687623071.9807999 --> 2023-06-24 16:11:11\n",
      "mtime:     1687623081.9936018 --> 2023-06-24 16:11:21\n",
      "\n",
      "Accessing file...\n",
      "\n",
      "timestamp: 1687623092.0017669 --> 2023-06-24 16:11:32\n",
      "atime:     1687623092.0017669 --> 2023-06-24 16:11:32\n",
      "ctime:     1687623071.9807999 --> 2023-06-24 16:11:11\n",
      "mtime:     1687623081.9936018 --> 2023-06-24 16:11:21\n",
      "\n",
      "File deleted.\n"
     ]
    }
   ],
   "source": [
    "# new file path string\n",
    "test_text_path = 'test_text_file.txt'\n",
    "\n",
    "# create file and write data to it\n",
    "with open(test_text_path, 'w') as f:\n",
    "    f.write('some data to be written to the file')\n",
    "\n",
    "print('File created.\\n')\n",
    "\n",
    "# get pathlib reference to file\n",
    "f = Path(test_text_path)\n",
    "# get stats\n",
    "f_stat = f.stat()\n",
    "\n",
    "# print timestamp\n",
    "print(f'timestamp: {time.time():10.7f} --> {unix_to_readable_timestamp(time.time())}')\n",
    "print(f'atime:     {f_stat.st_atime:10.7f} --> {unix_to_readable_timestamp(f_stat.st_atime)}')\n",
    "print(f'ctime:     {f_stat.st_ctime:10.7f} --> {unix_to_readable_timestamp(f_stat.st_ctime)}')\n",
    "print(f'mtime:     {f_stat.st_mtime:10.7f} --> {unix_to_readable_timestamp(f_stat.st_mtime)}')\n",
    "\n",
    "# wait 10 seconds\n",
    "print('\\nModifying file...\\n')\n",
    "time.sleep(10)\n",
    "\n",
    "# modify file by opening again\n",
    "with open(test_text_path, 'w') as f:\n",
    "    f.write('\\nsome more data to be written to the file')\n",
    "\n",
    "# get pathlib reference to file\n",
    "f = Path(test_text_path)\n",
    "# get stats again\n",
    "f_stat = f.stat()\n",
    "\n",
    "# print timestamp\n",
    "print(f'timestamp: {time.time():10.7f} --> {unix_to_readable_timestamp(time.time())}')\n",
    "print(f'atime:     {f_stat.st_atime:10.7f} --> {unix_to_readable_timestamp(f_stat.st_atime)}')\n",
    "print(f'ctime:     {f_stat.st_ctime:10.7f} --> {unix_to_readable_timestamp(f_stat.st_ctime)}')\n",
    "print(f'mtime:     {f_stat.st_mtime:10.7f} --> {unix_to_readable_timestamp(f_stat.st_mtime)}')\n",
    "\n",
    "# wait 10 seconds\n",
    "print('\\nAccessing file...\\n')\n",
    "time.sleep(10)\n",
    "\n",
    "# access file by opening again\n",
    "with open(test_text_path, 'r') as f:\n",
    "    f.readlines()\n",
    "\n",
    "# get pathlib reference to file\n",
    "f = Path(test_text_path)\n",
    "# get stats again\n",
    "f_stat = f.stat()\n",
    "\n",
    "# print timestamp\n",
    "print(f'timestamp: {time.time():10.7f} --> {unix_to_readable_timestamp(time.time())}')\n",
    "print(f'atime:     {f_stat.st_atime:10.7f} --> {unix_to_readable_timestamp(f_stat.st_atime)}')\n",
    "print(f'ctime:     {f_stat.st_ctime:10.7f} --> {unix_to_readable_timestamp(f_stat.st_ctime)}')\n",
    "print(f'mtime:     {f_stat.st_mtime:10.7f} --> {unix_to_readable_timestamp(f_stat.st_mtime)}')\n",
    "\n",
    "# delete file\n",
    "f.unlink()\n",
    "print('\\nFile deleted.')"
   ]
  },
  {
   "cell_type": "markdown",
   "id": "d85411fb",
   "metadata": {},
   "source": [
    "As we can see, when modifying the file `mtime` changed, and in both modifying and accessing the file the `atime` changed. Importantly, the `ctime` attribute remained constant throughout.\n",
    "\n",
    "A cross-platform implementation of the creation timestamp checking is as follows:"
   ]
  },
  {
   "cell_type": "code",
   "execution_count": 9,
   "id": "c56f91e4",
   "metadata": {},
   "outputs": [],
   "source": [
    "def get_creation_timestamp(path_to_file):\n",
    "    \"\"\"\n",
    "    Try to get the Unix timestamp that a file was created, falling back to when it was\n",
    "    last modified if that isn't possible.\n",
    "    See http://stackoverflow.com/a/39501288/1709587 for explanation.\n",
    "    \n",
    "    path_to_file: string of the path to the file\n",
    "    \"\"\"\n",
    "    \n",
    "    # get path variable\n",
    "    path = Path(path_to_file)\n",
    "    # get its stats\n",
    "    statdata = path.stat()\n",
    "    \n",
    "    # if windows, simply the ctime\n",
    "    if platform.system() == 'Windows':\n",
    "        return statdata.st_ctime\n",
    "    # if not windows, try Mac method\n",
    "    else:\n",
    "        try:\n",
    "            return statdata.st_birthtime\n",
    "        except AttributeError:\n",
    "            # We're probably on Linux. No easy way to get creation timestamps here,\n",
    "            # so we'll settle for when its content was last modified.\n",
    "            return statdata.st_mtime"
   ]
  },
  {
   "cell_type": "markdown",
   "id": "01cc0e8a",
   "metadata": {},
   "source": [
    "Testing this:"
   ]
  },
  {
   "cell_type": "code",
   "execution_count": 29,
   "id": "8ca4e05b",
   "metadata": {},
   "outputs": [
    {
     "data": {
      "text/plain": [
       "'2023-06-22 23:01:46'"
      ]
     },
     "execution_count": 29,
     "metadata": {},
     "output_type": "execute_result"
    }
   ],
   "source": [
    "unix_to_readable_timestamp(get_creation_timestamp(\"assets\\images\\IMG_20180703_205212.jpg\"))"
   ]
  },
  {
   "cell_type": "markdown",
   "id": "e6f2c541",
   "metadata": {},
   "source": [
    "We can get the filetype by looking at the suffix:"
   ]
  },
  {
   "cell_type": "code",
   "execution_count": 64,
   "id": "41b50806",
   "metadata": {},
   "outputs": [
    {
     "data": {
      "text/plain": [
       "'.jpg'"
      ]
     },
     "execution_count": 64,
     "metadata": {},
     "output_type": "execute_result"
    }
   ],
   "source": [
    "path.suffix"
   ]
  },
  {
   "cell_type": "markdown",
   "id": "c3d9de2a",
   "metadata": {},
   "source": [
    "Check if it is a file:"
   ]
  },
  {
   "cell_type": "code",
   "execution_count": 65,
   "id": "61f9216c",
   "metadata": {},
   "outputs": [
    {
     "data": {
      "text/plain": [
       "True"
      ]
     },
     "execution_count": 65,
     "metadata": {},
     "output_type": "execute_result"
    }
   ],
   "source": [
    "path.is_file()"
   ]
  },
  {
   "cell_type": "markdown",
   "id": "7d295173",
   "metadata": {},
   "source": [
    "We can define a function to return whether a path is a directory, image, video or audio by looking at the extension:"
   ]
  },
  {
   "cell_type": "code",
   "execution_count": 67,
   "id": "eb416316",
   "metadata": {},
   "outputs": [],
   "source": [
    "def get_path_type(path_string):\n",
    "    '''\n",
    "    Returns a string of either 'directory', 'image', 'audio', or 'video' depending on the files extension.\n",
    "    '''\n",
    "    \n",
    "    # define list of extensions\n",
    "    audio_extensions = ['.mp3', '.ogg']\n",
    "    video_extensions = ['.mp4', '.mkv']\n",
    "    image_extensions = ['.jpg', '.jpeg', '.png']\n",
    "    \n",
    "    # get as a path reference\n",
    "    path = Path(path_string)\n",
    "    \n",
    "    # check if a file\n",
    "    if path.is_file():\n",
    "        # get suffix and lower it\n",
    "        extension = path.suffix.lower()\n",
    "        # check if an audio\n",
    "        if extension in audio_extensions:\n",
    "            return 'audio'\n",
    "        # check if an video\n",
    "        elif extension in video_extensions:\n",
    "            return 'video'\n",
    "        # check if an image\n",
    "        elif extension in image_extensions:\n",
    "            return 'image'\n",
    "        # otherwise\n",
    "        else:\n",
    "            'other'\n",
    "    # is a directory\n",
    "    else:\n",
    "        return 'directory'"
   ]
  },
  {
   "cell_type": "markdown",
   "id": "aa92e1e9",
   "metadata": {},
   "source": [
    "Trying on the image file:"
   ]
  },
  {
   "cell_type": "code",
   "execution_count": 68,
   "id": "aa7230cd",
   "metadata": {},
   "outputs": [
    {
     "data": {
      "text/plain": [
       "'image'"
      ]
     },
     "execution_count": 68,
     "metadata": {},
     "output_type": "execute_result"
    }
   ],
   "source": [
    "get_path_type(str(path))"
   ]
  },
  {
   "cell_type": "markdown",
   "id": "1a317de0",
   "metadata": {},
   "source": [
    "Now, let's check the size of the image file, also from the stat data:"
   ]
  },
  {
   "cell_type": "code",
   "execution_count": 30,
   "id": "678fcb96",
   "metadata": {},
   "outputs": [
    {
     "data": {
      "text/plain": [
       "3855920"
      ]
     },
     "execution_count": 30,
     "metadata": {},
     "output_type": "execute_result"
    }
   ],
   "source": [
    "statdata.st_size"
   ]
  },
  {
   "cell_type": "markdown",
   "id": "2f082872",
   "metadata": {},
   "source": [
    "This is the size in bytes. For ease of use, let's define a function that returns the size in kilobytes, megabytes, or gigabytes depending on the file size:"
   ]
  },
  {
   "cell_type": "code",
   "execution_count": 38,
   "id": "bcd54a6d",
   "metadata": {},
   "outputs": [],
   "source": [
    "def get_readable_filesize(filesize):\n",
    "    '''\n",
    "    Returns the filesize of an object in a readable format as a string depending on the size.\n",
    "    '''\n",
    "    \n",
    "    # get magnitude of size\n",
    "    magnitude = math.log10(filesize)\n",
    "    # floor it\n",
    "    magnitude = math.floor(magnitude)\n",
    "    \n",
    "    # check if fits GB\n",
    "    if magnitude >= 9:\n",
    "        # format so that GB magnitude is removed and ceiling to 3 digits\n",
    "        filesize_format = math.ceil(filesize / 1e6) / 1e3\n",
    "        # return as string\n",
    "        filesize_string = f'{filesize_format:0.3f} GB'\n",
    "    # check if fits MB\n",
    "    elif magnitude >= 6:\n",
    "        # format so that MB magnitude is removed and ceiling to 3 digits\n",
    "        filesize_format = math.ceil(filesize / 1e3) / 1e3\n",
    "        # return as string\n",
    "        filesize_string = f'{filesize_format:0.3f} MB'\n",
    "    # check if fits KB\n",
    "    elif magnitude >= 3:\n",
    "        # format so that KB magnitude is removed and ceiling to 3 digits\n",
    "        filesize_format = math.ceil(filesize) / 1e3\n",
    "        # return as string\n",
    "        filesize_string = f'{filesize_format:0.3f} KB'\n",
    "    else:\n",
    "        # return as bytes string\n",
    "        filesize_string = f'{filesize} B'\n",
    "    \n",
    "    return filesize_string"
   ]
  },
  {
   "cell_type": "markdown",
   "id": "f1cc9024",
   "metadata": {},
   "source": [
    "Testing this:"
   ]
  },
  {
   "cell_type": "code",
   "execution_count": 39,
   "id": "5e885d3e",
   "metadata": {},
   "outputs": [
    {
     "data": {
      "text/plain": [
       "'3.856 MB'"
      ]
     },
     "execution_count": 39,
     "metadata": {},
     "output_type": "execute_result"
    }
   ],
   "source": [
    "get_readable_filesize(statdata.st_size)"
   ]
  },
  {
   "cell_type": "markdown",
   "id": "59299fac",
   "metadata": {},
   "source": [
    "### 1.2 Multiple files of various types"
   ]
  }
 ],
 "metadata": {
  "kernelspec": {
   "display_name": "Python 3 (ipykernel)",
   "language": "python",
   "name": "python3"
  },
  "language_info": {
   "codemirror_mode": {
    "name": "ipython",
    "version": 3
   },
   "file_extension": ".py",
   "mimetype": "text/x-python",
   "name": "python",
   "nbconvert_exporter": "python",
   "pygments_lexer": "ipython3",
   "version": "3.9.7"
  }
 },
 "nbformat": 4,
 "nbformat_minor": 5
}
