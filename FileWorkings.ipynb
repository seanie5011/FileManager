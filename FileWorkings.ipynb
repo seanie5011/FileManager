{
 "cells": [
  {
   "cell_type": "markdown",
   "id": "4c3b6d5d",
   "metadata": {},
   "source": [
    "# FileManager - Workings"
   ]
  },
  {
   "cell_type": "markdown",
   "id": "47c7d5dd",
   "metadata": {},
   "source": [
    "The purpose of this notebook is to allow for some testing of and workings on processes related to the FileManager project.\n",
    "\n",
    "The assumed directory/file structure for this notebook is as follows:\n",
    "\n",
    "- QuizWorkings.ipynb  \n",
    "- assets/\n",
    "  - images/\n",
    "    - IMG_20180703_205212.jpg\n",
    "  - videos/\n",
    "    - Snapchat-2084940612.mp4\n",
    "  - mixed/\n",
    "    - received_10204964983279784.jpeg\n",
    "    - results_screenshot.jpg\n",
    "    - Screenshot_20171225-113409.png\n",
    "    - Snapchat-1225537317.mp4\n",
    "    - WIN_20220906_11_22_52_Pro.mp4"
   ]
  },
  {
   "cell_type": "markdown",
   "id": "0c495b40",
   "metadata": {},
   "source": [
    "## Table Of Contents"
   ]
  },
  {
   "cell_type": "markdown",
   "id": "f6f8305b",
   "metadata": {},
   "source": [
    "* **0.** [Dependancies and Settings](#0-Dependancies-and-Settings)  \n",
    "* **1.** [Looking at Metadata](#1-Looking-at-Metadata)  "
   ]
  },
  {
   "cell_type": "markdown",
   "id": "38c46f5c",
   "metadata": {},
   "source": [
    "## 0 Dependancies and Settings"
   ]
  },
  {
   "cell_type": "markdown",
   "id": "eb1b74cd",
   "metadata": {},
   "source": [
    "Using `pathlib` as it is cross-platform:"
   ]
  },
  {
   "cell_type": "code",
   "execution_count": 1,
   "id": "83cb34a2",
   "metadata": {},
   "outputs": [],
   "source": [
    "from pathlib import Path"
   ]
  },
  {
   "cell_type": "markdown",
   "id": "b8d80c35",
   "metadata": {},
   "source": [
    "Using `platform` to check users current system:"
   ]
  },
  {
   "cell_type": "code",
   "execution_count": 2,
   "id": "4431d4a8",
   "metadata": {},
   "outputs": [],
   "source": [
    "import platform"
   ]
  },
  {
   "cell_type": "markdown",
   "id": "5b3eb7c3",
   "metadata": {},
   "source": [
    "Using `time` and `datetime` for waiting and conversion:"
   ]
  },
  {
   "cell_type": "code",
   "execution_count": 3,
   "id": "04ab6bc7",
   "metadata": {},
   "outputs": [],
   "source": [
    "import time\n",
    "from datetime import datetime"
   ]
  },
  {
   "cell_type": "markdown",
   "id": "2fe400cb",
   "metadata": {},
   "source": [
    "`math` for simple operations:"
   ]
  },
  {
   "cell_type": "code",
   "execution_count": 4,
   "id": "946d6302",
   "metadata": {},
   "outputs": [],
   "source": [
    "import math"
   ]
  },
  {
   "cell_type": "markdown",
   "id": "89d9dc0a",
   "metadata": {},
   "source": [
    "Using `Pillow` and `hachoir` for metadata extraction:"
   ]
  },
  {
   "cell_type": "code",
   "execution_count": 34,
   "id": "3e32e7fd",
   "metadata": {},
   "outputs": [],
   "source": [
    "from PIL import Image, ExifTags\n",
    "from hachoir.parser import createParser\n",
    "from hachoir.metadata import extractMetadata"
   ]
  },
  {
   "cell_type": "markdown",
   "id": "7259869b",
   "metadata": {},
   "source": [
    "Current working directory for ease use:"
   ]
  },
  {
   "cell_type": "code",
   "execution_count": 6,
   "id": "a0917f47",
   "metadata": {},
   "outputs": [
    {
     "data": {
      "text/plain": [
       "WindowsPath('C:/Users/seani/Documents/Projects/FileManager')"
      ]
     },
     "execution_count": 6,
     "metadata": {},
     "output_type": "execute_result"
    }
   ],
   "source": [
    "cwd = Path.cwd()\n",
    "cwd"
   ]
  },
  {
   "cell_type": "markdown",
   "id": "54f8e4cc",
   "metadata": {},
   "source": [
    "Function used to get names of files in a directory:"
   ]
  },
  {
   "cell_type": "code",
   "execution_count": 107,
   "id": "82e588c8",
   "metadata": {},
   "outputs": [],
   "source": [
    "def get_filenames(path: str, mode='relative'):\n",
    "    '''\n",
    "    Returns name of file or all files in directory that path is pointing to. \\\n",
    "    If mode is 'relative', then only the filenames will be listed, if 'absolute' \\\n",
    "    then the full absolute paths will be listed.\n",
    "    \n",
    "    inputs: \n",
    "      path: string of path to the target directory/file\n",
    "      mode: either 'relative' or 'absolute'\n",
    "    outputs: list of string(s) of name(s) of file(s) in target directory/file\n",
    "    '''\n",
    "    \n",
    "    # get the file path from string\n",
    "    path = Path(path)\n",
    "    \n",
    "    # convert to an absolute path\n",
    "    path = path.absolute()\n",
    "    \n",
    "    # store all filename(s) used in a list\n",
    "    file_list = []\n",
    "    \n",
    "    # check if we are referencing a file or directory (folder)\n",
    "    # if directory, pass through each file and add path to list\n",
    "    if path.is_dir():\n",
    "        # get path of each file and append\n",
    "        for file in path.glob(\"*\"):\n",
    "            # if relative only use name\n",
    "            if mode == 'relative':\n",
    "                temp = file.name\n",
    "            # if absolute use full path\n",
    "            elif mode == 'absolute':\n",
    "                temp = str(file)\n",
    "            \n",
    "            # append to list\n",
    "            file_list.append(temp)\n",
    "    # if file, just add that path to the list\n",
    "    else:\n",
    "        # if relative only use name\n",
    "        # filename is the last part of this path\n",
    "        if mode == 'relative':\n",
    "            temp = path.name\n",
    "        # if absolute use full path\n",
    "        elif mode == 'absolute':\n",
    "            temp = str(path)\n",
    "            \n",
    "        # add filename to list\n",
    "        file_list.append(temp)\n",
    "\n",
    "    # sort file_list\n",
    "    file_list = sorted(file_list)\n",
    "    \n",
    "    return file_list"
   ]
  },
  {
   "cell_type": "markdown",
   "id": "d0f8181e",
   "metadata": {},
   "source": [
    "## 1 Looking at Metadata"
   ]
  },
  {
   "cell_type": "markdown",
   "id": "4e2bf102",
   "metadata": {},
   "source": [
    "In this section we will investigate methods to look at file metadata.\n",
    "\n",
    "Main images directory:"
   ]
  },
  {
   "cell_type": "code",
   "execution_count": 8,
   "id": "c48267ca",
   "metadata": {},
   "outputs": [
    {
     "data": {
      "text/plain": [
       "WindowsPath('C:/Users/seani/Documents/Projects/FileManager/assets/images')"
      ]
     },
     "execution_count": 8,
     "metadata": {},
     "output_type": "execute_result"
    }
   ],
   "source": [
    "img = cwd / r\"assets\\images\"\n",
    "img"
   ]
  },
  {
   "cell_type": "markdown",
   "id": "1cf1e79c",
   "metadata": {},
   "source": [
    "Main videos directory:"
   ]
  },
  {
   "cell_type": "code",
   "execution_count": 9,
   "id": "4680fd8a",
   "metadata": {},
   "outputs": [
    {
     "data": {
      "text/plain": [
       "WindowsPath('C:/Users/seani/Documents/Projects/FileManager/assets/videos')"
      ]
     },
     "execution_count": 9,
     "metadata": {},
     "output_type": "execute_result"
    }
   ],
   "source": [
    "vid = cwd / r\"assets\\videos\"\n",
    "vid"
   ]
  },
  {
   "cell_type": "markdown",
   "id": "e8f749a6",
   "metadata": {},
   "source": [
    "Mixed files directory:"
   ]
  },
  {
   "cell_type": "code",
   "execution_count": 10,
   "id": "c3d1fdaf",
   "metadata": {},
   "outputs": [
    {
     "data": {
      "text/plain": [
       "WindowsPath('C:/Users/seani/Documents/Projects/FileManager/assets/mixed')"
      ]
     },
     "execution_count": 10,
     "metadata": {},
     "output_type": "execute_result"
    }
   ],
   "source": [
    "mixed = cwd / r\"assets\\mixed\"\n",
    "mixed"
   ]
  },
  {
   "cell_type": "markdown",
   "id": "c684c0f2",
   "metadata": {},
   "source": [
    "### 1.1 Single image file"
   ]
  },
  {
   "cell_type": "markdown",
   "id": "e04eda30",
   "metadata": {},
   "source": [
    "First, let's obtain a single image file: `IMG_20180703_205212.jpg`"
   ]
  },
  {
   "cell_type": "code",
   "execution_count": 11,
   "id": "e316c55d",
   "metadata": {},
   "outputs": [
    {
     "data": {
      "text/plain": [
       "WindowsPath('C:/Users/seani/Documents/Projects/FileManager/assets/images/IMG_20180703_205212.jpg')"
      ]
     },
     "execution_count": 11,
     "metadata": {},
     "output_type": "execute_result"
    }
   ],
   "source": [
    "path = img / r\"IMG_20180703_205212.jpg\"\n",
    "path"
   ]
  },
  {
   "cell_type": "markdown",
   "id": "1a93041b",
   "metadata": {},
   "source": [
    "We can look at its statdata:"
   ]
  },
  {
   "cell_type": "code",
   "execution_count": 12,
   "id": "1901557c",
   "metadata": {},
   "outputs": [
    {
     "data": {
      "text/plain": [
       "os.stat_result(st_mode=33206, st_ino=5629499534378696, st_dev=2457206766, st_nlink=1, st_uid=0, st_gid=0, st_size=3855920, st_atime=1688050022, st_mtime=1687474906, st_ctime=1687474906)"
      ]
     },
     "execution_count": 12,
     "metadata": {},
     "output_type": "execute_result"
    }
   ],
   "source": [
    "statdata = path.stat()\n",
    "statdata"
   ]
  },
  {
   "cell_type": "markdown",
   "id": "4ba90bea",
   "metadata": {},
   "source": [
    "There are numerous timestamps to look at:\n",
    "\n",
    "- Time of last access (`st_atime`)\n",
    "- Time of last change (`st_ctime`)\n",
    "- Time of last modification (`st_mtime`)\n",
    "\n",
    "\n",
    "Depending on the OS used, these timestamps can mean different things. On Windows - for files of image or video type - it is likely that `ctime` and `mtime` are the same. For files that are modified regularly (eg: `.txt` files), `ctime` likely refers to the time of creation (although not always). On Mac, we can look at a parameter `st_birthtime` for the creation timestamp. For Linux systems, it is more difficult to obtain creation dates, so the best estimate may be `mtime`. *Explanation for this can be found in [this stack overflow answer](https://stackoverflow.com/questions/237079/how-do-i-get-file-creation-and-modification-date-times/39501288#39501288).*\n",
    "\n",
    "*NOTE: the `st_ino` parameter details the inode of the file. Explanation of an inode is not important here, but note that every file in any Unix system has an inode, which contains the files metaparameters.*\n",
    "\n",
    "As a quick aside to test this, let's create a text-file, wait 10 seconds, then modify it, wait 10 seconds, then access it. We can then check these timestamps to see what's different. First, let's define a function to convert Unix timestamps to `YYYY-MM-DD H-M-S` format:"
   ]
  },
  {
   "cell_type": "code",
   "execution_count": 13,
   "id": "ca9c73aa",
   "metadata": {},
   "outputs": [],
   "source": [
    "def unix_to_readable_timestamp(timestamp):\n",
    "    '''\n",
    "    Converts a timestamp from Unix (epoch in 00:00:00 UTC on 1 Jan 1970) to a readable format.\n",
    "    '''\n",
    "    \n",
    "    # convert date from Unix to UTC\n",
    "    converted = datetime.utcfromtimestamp(timestamp)\n",
    "    # format in readable time\n",
    "    formatted = converted.strftime('%Y-%m-%d %H:%M:%S')\n",
    "    \n",
    "    return formatted"
   ]
  },
  {
   "cell_type": "code",
   "execution_count": 14,
   "id": "1e496eaf",
   "metadata": {},
   "outputs": [
    {
     "name": "stdout",
     "output_type": "stream",
     "text": [
      "File created.\n",
      "\n",
      "timestamp: 1688055416.8685851 --> 2023-06-29 16:16:56\n",
      "atime:     1688055416.8675902 --> 2023-06-29 16:16:56\n",
      "ctime:     1688055416.8675902 --> 2023-06-29 16:16:56\n",
      "mtime:     1688055416.8675902 --> 2023-06-29 16:16:56\n",
      "\n",
      "Modifying file...\n",
      "\n",
      "timestamp: 1688055426.8740654 --> 2023-06-29 16:17:06\n",
      "atime:     1688055426.8731878 --> 2023-06-29 16:17:06\n",
      "ctime:     1688055416.8675902 --> 2023-06-29 16:16:56\n",
      "mtime:     1688055426.8731878 --> 2023-06-29 16:17:06\n",
      "\n",
      "Accessing file...\n",
      "\n",
      "timestamp: 1688055436.8876927 --> 2023-06-29 16:17:16\n",
      "atime:     1688055436.8876927 --> 2023-06-29 16:17:16\n",
      "ctime:     1688055416.8675902 --> 2023-06-29 16:16:56\n",
      "mtime:     1688055426.8731878 --> 2023-06-29 16:17:06\n",
      "\n",
      "File deleted.\n"
     ]
    }
   ],
   "source": [
    "# new file path string\n",
    "test_text_path = 'test_text_file.txt'\n",
    "\n",
    "# create file and write data to it\n",
    "with open(test_text_path, 'w') as f:\n",
    "    f.write('some data to be written to the file')\n",
    "\n",
    "print('File created.\\n')\n",
    "\n",
    "# get pathlib reference to file\n",
    "f = Path(test_text_path)\n",
    "# get stats\n",
    "f_stat = f.stat()\n",
    "\n",
    "# print timestamp\n",
    "print(f'timestamp: {time.time():10.7f} --> {unix_to_readable_timestamp(time.time())}')\n",
    "print(f'atime:     {f_stat.st_atime:10.7f} --> {unix_to_readable_timestamp(f_stat.st_atime)}')\n",
    "print(f'ctime:     {f_stat.st_ctime:10.7f} --> {unix_to_readable_timestamp(f_stat.st_ctime)}')\n",
    "print(f'mtime:     {f_stat.st_mtime:10.7f} --> {unix_to_readable_timestamp(f_stat.st_mtime)}')\n",
    "\n",
    "# wait 10 seconds\n",
    "print('\\nModifying file...\\n')\n",
    "time.sleep(10)\n",
    "\n",
    "# modify file by opening again\n",
    "with open(test_text_path, 'w') as f:\n",
    "    f.write('\\nsome more data to be written to the file')\n",
    "\n",
    "# get pathlib reference to file\n",
    "f = Path(test_text_path)\n",
    "# get stats again\n",
    "f_stat = f.stat()\n",
    "\n",
    "# print timestamp\n",
    "print(f'timestamp: {time.time():10.7f} --> {unix_to_readable_timestamp(time.time())}')\n",
    "print(f'atime:     {f_stat.st_atime:10.7f} --> {unix_to_readable_timestamp(f_stat.st_atime)}')\n",
    "print(f'ctime:     {f_stat.st_ctime:10.7f} --> {unix_to_readable_timestamp(f_stat.st_ctime)}')\n",
    "print(f'mtime:     {f_stat.st_mtime:10.7f} --> {unix_to_readable_timestamp(f_stat.st_mtime)}')\n",
    "\n",
    "# wait 10 seconds\n",
    "print('\\nAccessing file...\\n')\n",
    "time.sleep(10)\n",
    "\n",
    "# access file by opening again\n",
    "with open(test_text_path, 'r') as f:\n",
    "    f.readlines()\n",
    "\n",
    "# get pathlib reference to file\n",
    "f = Path(test_text_path)\n",
    "# get stats again\n",
    "f_stat = f.stat()\n",
    "\n",
    "# print timestamp\n",
    "print(f'timestamp: {time.time():10.7f} --> {unix_to_readable_timestamp(time.time())}')\n",
    "print(f'atime:     {f_stat.st_atime:10.7f} --> {unix_to_readable_timestamp(f_stat.st_atime)}')\n",
    "print(f'ctime:     {f_stat.st_ctime:10.7f} --> {unix_to_readable_timestamp(f_stat.st_ctime)}')\n",
    "print(f'mtime:     {f_stat.st_mtime:10.7f} --> {unix_to_readable_timestamp(f_stat.st_mtime)}')\n",
    "\n",
    "# delete file\n",
    "f.unlink()\n",
    "print('\\nFile deleted.')"
   ]
  },
  {
   "cell_type": "markdown",
   "id": "d85411fb",
   "metadata": {},
   "source": [
    "As we can see, when modifying the file `mtime` changed, and in both modifying and accessing the file the `atime` changed. Importantly, the `ctime` attribute remained constant throughout.\n",
    "\n",
    "A cross-platform implementation of the creation timestamp checking is as follows:"
   ]
  },
  {
   "cell_type": "code",
   "execution_count": 15,
   "id": "c56f91e4",
   "metadata": {},
   "outputs": [],
   "source": [
    "def get_creation_timestamp(path_to_file):\n",
    "    \"\"\"\n",
    "    Try to get the Unix timestamp that a file was created, falling back to when it was\n",
    "    last modified if that isn't possible.\n",
    "    See http://stackoverflow.com/a/39501288/1709587 for explanation.\n",
    "    \n",
    "    path_to_file: string of the path to the file\n",
    "    \"\"\"\n",
    "    \n",
    "    # get path variable\n",
    "    path = Path(path_to_file)\n",
    "    # get its stats\n",
    "    statdata = path.stat()\n",
    "    \n",
    "    # if windows, simply the ctime\n",
    "    if platform.system() == 'Windows':\n",
    "        return statdata.st_ctime\n",
    "    # if not windows, try Mac method\n",
    "    else:\n",
    "        try:\n",
    "            return statdata.st_birthtime\n",
    "        except AttributeError:\n",
    "            # We're probably on Linux. No easy way to get creation timestamps here,\n",
    "            # so we'll settle for when its content was last modified.\n",
    "            return statdata.st_mtime"
   ]
  },
  {
   "cell_type": "markdown",
   "id": "01cc0e8a",
   "metadata": {},
   "source": [
    "Testing this:"
   ]
  },
  {
   "cell_type": "code",
   "execution_count": 16,
   "id": "8ca4e05b",
   "metadata": {},
   "outputs": [
    {
     "data": {
      "text/plain": [
       "'2023-06-22 23:01:46'"
      ]
     },
     "execution_count": 16,
     "metadata": {},
     "output_type": "execute_result"
    }
   ],
   "source": [
    "unix_to_readable_timestamp(get_creation_timestamp(str(path)))"
   ]
  },
  {
   "cell_type": "markdown",
   "id": "c302e986",
   "metadata": {},
   "source": [
    "**NOTE: Google Drive changes the files ctime on downloading and uploading. Thus, we need to look at the images/videos metadata not the files metadata.** This is the *Origins* section in the file properties window on Windows. For images, this is also referred to as the EXIF data. This is much more difficult to obtain and so for images we use the `Pillow` package and for videos we use the `hachoir` package. This is all done in the following:"
   ]
  },
  {
   "cell_type": "code",
   "execution_count": 92,
   "id": "b7a7b354",
   "metadata": {},
   "outputs": [
    {
     "name": "stdout",
     "output_type": "stream",
     "text": [
      "Image: 2018:07:03 20:52:13\n",
      "Video: 2018-02-27 17:56:08\n"
     ]
    }
   ],
   "source": [
    "def get_date_image_taken(path_string):\n",
    "    '''\n",
    "    Returns the image metadata corresponding to creation date.\n",
    "    \n",
    "    path_string: string of the path to the file\n",
    "    '''\n",
    "    \n",
    "    # open image and get the exif data\n",
    "    img_exif = Image.open(path_string).getexif()\n",
    "    \n",
    "    # return the data corresponding to date (note this key can be obtained using ExifTags.TAGS)\n",
    "    return img_exif[306]\n",
    "\n",
    "def get_date_video_taken(path_string):\n",
    "    '''\n",
    "    Returns the video metadata corresponding to media taken date.\n",
    "    \n",
    "    path_string: string of the path to the file\n",
    "    '''\n",
    "    \n",
    "    # create the parser\n",
    "    parser = createParser(path_string)\n",
    "    # use it to extract metadata\n",
    "    with parser:\n",
    "        metadata = extractMetadata(parser)\n",
    "    # pass through each line in the metadata text\n",
    "    for line in metadata.exportPlaintext():\n",
    "        # find the creation date line\n",
    "        if line.split(':')[0] == '- Creation date':\n",
    "            # format while removing the '- Creation date: ' part\n",
    "            return line[17:]\n",
    "\n",
    "# testing both\n",
    "print(f'Image: {get_date_image_taken(str(path))}')\n",
    "print(f'Video: {get_date_video_taken(str(vid / r\"Snapchat-2084940612.mp4\"))}')"
   ]
  },
  {
   "cell_type": "markdown",
   "id": "e6f2c541",
   "metadata": {},
   "source": [
    "We can get the filetype by looking at the suffix:"
   ]
  },
  {
   "cell_type": "code",
   "execution_count": 18,
   "id": "41b50806",
   "metadata": {},
   "outputs": [
    {
     "data": {
      "text/plain": [
       "'.jpg'"
      ]
     },
     "execution_count": 18,
     "metadata": {},
     "output_type": "execute_result"
    }
   ],
   "source": [
    "path.suffix"
   ]
  },
  {
   "cell_type": "markdown",
   "id": "c3d9de2a",
   "metadata": {},
   "source": [
    "Check if it is a file:"
   ]
  },
  {
   "cell_type": "code",
   "execution_count": 19,
   "id": "61f9216c",
   "metadata": {},
   "outputs": [
    {
     "data": {
      "text/plain": [
       "True"
      ]
     },
     "execution_count": 19,
     "metadata": {},
     "output_type": "execute_result"
    }
   ],
   "source": [
    "path.is_file()"
   ]
  },
  {
   "cell_type": "markdown",
   "id": "7d295173",
   "metadata": {},
   "source": [
    "We can define a function to return whether a path is a directory, image, video or audio by looking at the extension:"
   ]
  },
  {
   "cell_type": "code",
   "execution_count": 20,
   "id": "eb416316",
   "metadata": {},
   "outputs": [],
   "source": [
    "def get_path_type(path_string):\n",
    "    '''\n",
    "    Returns a string of either 'directory', 'image', 'audio', or 'video' depending on the files extension.\n",
    "    '''\n",
    "    \n",
    "    # define list of extensions\n",
    "    audio_extensions = ['.mp3', '.ogg']\n",
    "    video_extensions = ['.mp4', '.mkv']\n",
    "    image_extensions = ['.jpg', '.jpeg', '.png']\n",
    "    \n",
    "    # get as a path reference\n",
    "    path = Path(path_string)\n",
    "    \n",
    "    # check if a file\n",
    "    if path.is_file():\n",
    "        # get suffix and lower it\n",
    "        extension = path.suffix.lower()\n",
    "        # check if an audio\n",
    "        if extension in audio_extensions:\n",
    "            return 'audio'\n",
    "        # check if an video\n",
    "        elif extension in video_extensions:\n",
    "            return 'video'\n",
    "        # check if an image\n",
    "        elif extension in image_extensions:\n",
    "            return 'image'\n",
    "        # otherwise\n",
    "        else:\n",
    "            'other'\n",
    "    # is a directory\n",
    "    else:\n",
    "        return 'directory'"
   ]
  },
  {
   "cell_type": "markdown",
   "id": "aa92e1e9",
   "metadata": {},
   "source": [
    "Trying on the image file:"
   ]
  },
  {
   "cell_type": "code",
   "execution_count": 21,
   "id": "aa7230cd",
   "metadata": {},
   "outputs": [
    {
     "data": {
      "text/plain": [
       "'image'"
      ]
     },
     "execution_count": 21,
     "metadata": {},
     "output_type": "execute_result"
    }
   ],
   "source": [
    "get_path_type(str(path))"
   ]
  },
  {
   "cell_type": "markdown",
   "id": "1a317de0",
   "metadata": {},
   "source": [
    "Now, let's check the size of the image file, also from the stat data:"
   ]
  },
  {
   "cell_type": "code",
   "execution_count": 22,
   "id": "678fcb96",
   "metadata": {},
   "outputs": [
    {
     "data": {
      "text/plain": [
       "3855920"
      ]
     },
     "execution_count": 22,
     "metadata": {},
     "output_type": "execute_result"
    }
   ],
   "source": [
    "statdata.st_size"
   ]
  },
  {
   "cell_type": "markdown",
   "id": "2f082872",
   "metadata": {},
   "source": [
    "This is the size in bytes. For ease of use, let's define a function that returns the size in kilobytes, megabytes, or gigabytes depending on the file size:"
   ]
  },
  {
   "cell_type": "code",
   "execution_count": 23,
   "id": "bcd54a6d",
   "metadata": {},
   "outputs": [],
   "source": [
    "def get_readable_filesize(filesize):\n",
    "    '''\n",
    "    Returns the filesize of an object in a readable format as a string depending on the size.\n",
    "    '''\n",
    "    \n",
    "    # get magnitude of size\n",
    "    magnitude = math.log10(filesize)\n",
    "    # floor it\n",
    "    magnitude = math.floor(magnitude)\n",
    "    \n",
    "    # check if fits GB\n",
    "    if magnitude >= 9:\n",
    "        # format so that GB magnitude is removed and ceiling to 3 digits\n",
    "        filesize_format = math.ceil(filesize / 1e6) / 1e3\n",
    "        # return as string\n",
    "        filesize_string = f'{filesize_format:0.3f} GB'\n",
    "    # check if fits MB\n",
    "    elif magnitude >= 6:\n",
    "        # format so that MB magnitude is removed and ceiling to 3 digits\n",
    "        filesize_format = math.ceil(filesize / 1e3) / 1e3\n",
    "        # return as string\n",
    "        filesize_string = f'{filesize_format:0.3f} MB'\n",
    "    # check if fits KB\n",
    "    elif magnitude >= 3:\n",
    "        # format so that KB magnitude is removed and ceiling to 3 digits\n",
    "        filesize_format = math.ceil(filesize) / 1e3\n",
    "        # return as string\n",
    "        filesize_string = f'{filesize_format:0.3f} KB'\n",
    "    else:\n",
    "        # return as bytes string\n",
    "        filesize_string = f'{filesize} B'\n",
    "    \n",
    "    return filesize_string"
   ]
  },
  {
   "cell_type": "markdown",
   "id": "f1cc9024",
   "metadata": {},
   "source": [
    "Testing this:"
   ]
  },
  {
   "cell_type": "code",
   "execution_count": 24,
   "id": "5e885d3e",
   "metadata": {},
   "outputs": [
    {
     "data": {
      "text/plain": [
       "'3.856 MB'"
      ]
     },
     "execution_count": 24,
     "metadata": {},
     "output_type": "execute_result"
    }
   ],
   "source": [
    "get_readable_filesize(statdata.st_size)"
   ]
  },
  {
   "cell_type": "markdown",
   "id": "59299fac",
   "metadata": {},
   "source": [
    "### 1.2 Multiple files of various types"
   ]
  },
  {
   "cell_type": "markdown",
   "id": "b77784f3",
   "metadata": {},
   "source": [
    "In this section we will generalise the functions and operations created/investigated already to work on multiple files. Let's start by importing the filenames we'll use:"
   ]
  },
  {
   "cell_type": "code",
   "execution_count": 81,
   "id": "4199eb24",
   "metadata": {},
   "outputs": [
    {
     "data": {
      "text/plain": [
       "['IMG_20180201_161822 (1).jpg',\n",
       " 'Screenshot_20171225-113409.png',\n",
       " 'Snapchat-1225537317.mp4',\n",
       " 'WIN_20220906_11_22_52_Pro.mp4',\n",
       " 'received_10204964983279784.jpeg',\n",
       " 'results_screenshot.jpg']"
      ]
     },
     "execution_count": 81,
     "metadata": {},
     "output_type": "execute_result"
    }
   ],
   "source": [
    "filenames = get_filenames(mixed)\n",
    "filenames"
   ]
  },
  {
   "cell_type": "markdown",
   "id": "5da414ed",
   "metadata": {},
   "source": [
    "So we have images and videos of various types, some have been created locally on machine while others were downloaded from Google Drive. First, let's create a function to correctly identify the file-type and then return the creation date (as in EXIF or other metadata) This makes use of the previously defined functions:\n",
    "\n",
    "- `get_date_image_taken(path_string)`\n",
    "- `get_date_video_taken(path_string)`\n",
    "- `get_path_type(path_string)`"
   ]
  },
  {
   "cell_type": "code",
   "execution_count": 93,
   "id": "753a504b",
   "metadata": {},
   "outputs": [],
   "source": [
    "def get_date_taken(path_string):\n",
    "    '''\n",
    "    Returns the date (YYYYMMDD) as a string the file was taken given it's file path string.\n",
    "    '''\n",
    "        \n",
    "    # get the filetype\n",
    "    filetype = get_path_type(path_string)\n",
    "    \n",
    "    # decide whether image or other\n",
    "    if filetype == 'image':\n",
    "        # try image date method\n",
    "        try:\n",
    "            date_taken = get_date_image_taken(path_string)\n",
    "            # fix format into datetime object\n",
    "            date_taken = datetime.strptime(date_taken, '%Y:%m:%d %H:%M:%S')\n",
    "        # if does not have that info we set to ctime\n",
    "        except KeyError:\n",
    "            date_taken = unix_to_readable_timestamp(get_creation_timestamp(path_string))\n",
    "            # fix format into datetime object\n",
    "            date_taken = datetime.strptime(date_taken, '%Y-%m-%d %H:%M:%S')\n",
    "    else:\n",
    "        # try video date method (should work for audio too)\n",
    "        try:\n",
    "            date_taken = get_date_video_taken(path_string)\n",
    "            # fix format into datetime object\n",
    "            date_taken = datetime.strptime(date_taken, '%Y-%m-%d %H:%M:%S')\n",
    "        # if does not have that info we set to ctime\n",
    "        except:\n",
    "            date_taken = unix_to_readable_timestamp(get_creation_timestamp(path_string))\n",
    "            # fix format into datetime object\n",
    "            date_taken = datetime.strptime(date_taken, '%Y-%m-%d %H:%M:%S')\n",
    "    \n",
    "    return date_taken.strftime('%Y%m%d')"
   ]
  },
  {
   "cell_type": "markdown",
   "id": "ff38c6b4",
   "metadata": {},
   "source": [
    "Now testing on each file:"
   ]
  },
  {
   "cell_type": "code",
   "execution_count": 94,
   "id": "3220c039",
   "metadata": {},
   "outputs": [
    {
     "name": "stdout",
     "output_type": "stream",
     "text": [
      "IMG_20180201_161822 (1).jpg     | 20191023\n",
      "Screenshot_20171225-113409.png  | 20230629\n",
      "Snapchat-1225537317.mp4         | 20180526\n",
      "WIN_20220906_11_22_52_Pro.mp4   | 20220906\n",
      "received_10204964983279784.jpeg | 20230629\n",
      "results_screenshot.jpg          | 20230629\n"
     ]
    }
   ],
   "source": [
    "# pass through each filename\n",
    "for filename in filenames:\n",
    "    # get date of this file (from mixed path)\n",
    "    date_taken = get_date_taken(str(mixed / filename))\n",
    "    # print\n",
    "    print(f'{filename:31} | {date_taken}')"
   ]
  },
  {
   "cell_type": "markdown",
   "id": "baa73041",
   "metadata": {},
   "source": [
    "This has worked as intended for each file. Note some pitfalls appear to be files which are:\n",
    "\n",
    "- copied\n",
    "- taken from whatsapp\n",
    "- taken from the old (pre-huawei p30 lite) phone\n",
    "\n",
    "These files do not contain any of the metadata needed to pinpoint an accurate date."
   ]
  },
  {
   "cell_type": "markdown",
   "id": "89522a86",
   "metadata": {},
   "source": [
    "## 2 Operations on files"
   ]
  },
  {
   "cell_type": "markdown",
   "id": "7721eeed",
   "metadata": {},
   "source": [
    "In this section we will look at methods to rename files to the desired new filename and how to sort files using the `.txt` method proposed."
   ]
  },
  {
   "cell_type": "markdown",
   "id": "d881cb5f",
   "metadata": {},
   "source": [
    "### 2.1 Renaming files"
   ]
  },
  {
   "cell_type": "markdown",
   "id": "e6803f2c",
   "metadata": {},
   "source": [
    "The file format we want to introduce is as follows: `YYYYMMDD_XXXXX_filetype.suffix`, where:\n",
    "\n",
    "- `YYYYMMDD` is as obtained using the `get_date_taken` function\n",
    "- `XXXXX` counts from `00000` to `99999` depending on the number of files in the current `YYYYMMDD`\n",
    "- `filetype` is as obtained using the `get_path_type` function\n",
    "- `.suffix` is obtained from the `path.suffix` function\n",
    "\n",
    "To test this, let's create a `.txt` file and rename it:"
   ]
  },
  {
   "cell_type": "code",
   "execution_count": 98,
   "id": "9c2e4264",
   "metadata": {},
   "outputs": [
    {
     "name": "stdout",
     "output_type": "stream",
     "text": [
      "File created.\n",
      "\n",
      "['.git', '.gitignore', '.ipynb_checkpoints', 'FileWorkings.ipynb', 'README.md', 'assets', 'test_text_file.txt', 'venv']\n",
      "\n",
      "File renamed.\n",
      "\n",
      "['.git', '.gitignore', '.ipynb_checkpoints', 'FileWorkings.ipynb', 'README.md', 'assets', 'renamed_test_text_file.txt', 'venv']\n"
     ]
    }
   ],
   "source": [
    "# new file path string\n",
    "test_text_path = 'test_text_file.txt'\n",
    "\n",
    "# create file and write data to it\n",
    "with open(test_text_path, 'w') as f:\n",
    "    f.write('some data to be written to the file')\n",
    "\n",
    "print('File created.\\n')\n",
    "\n",
    "# print all files in directory\n",
    "print(f'Files: {get_filenames(cwd)}')\n",
    "\n",
    "# get pathlib reference to file\n",
    "f = Path(test_text_path)\n",
    "# rename the file\n",
    "f.rename(f'renamed_test_text_file{f.suffix}')\n",
    "\n",
    "print('\\nFile renamed.\\n')\n",
    "\n",
    "# print all files in directory\n",
    "print(f'Files: {get_filenames(cwd)}')\n",
    "\n",
    "# get pathlib reference to the \"new\" file\n",
    "f = Path(f'renamed_test_text_file{f.suffix}')\n",
    "# delete file\n",
    "f.unlink()\n",
    "print('\\nFile deleted.')"
   ]
  },
  {
   "cell_type": "markdown",
   "id": "d35a0285",
   "metadata": {},
   "source": [
    "Note that when renaming the file you must create a new `Path` instance to use it after renaming. Further, you must specify the path to where the file is to be stored when renaming (if you are keeping it in the same place). From testing it was found this did not affect the metadata of files."
   ]
  },
  {
   "cell_type": "markdown",
   "id": "5d023239",
   "metadata": {},
   "source": [
    "### 2.2 Sorting files"
   ]
  },
  {
   "cell_type": "markdown",
   "id": "e785ec24",
   "metadata": {},
   "source": [
    "The `.txt` method proposed involves:\n",
    "\n",
    "- Create a text file of the same name as the desired (sorted) \"folder\"\n",
    "- Each line in the text file contains the name of the file that is included in this \"folder\"\n",
    "\n",
    "This allows (using the accompanying app to be made) to sort by only loading the files named in the text file, as each file will normally reside in the master folder. This allows us to mimick a \"folder\".\n",
    "\n",
    "This should be implemented using a class structure, but here we will experiment with the functionality that will be required. First, let's create a function that takes a list of strings of the paths to the files we want to include, and returns a string that will be passed into the `.txt` file:"
   ]
  },
  {
   "cell_type": "code",
   "execution_count": 103,
   "id": "11be5d6b",
   "metadata": {},
   "outputs": [],
   "source": [
    "def filenames_list_to_string(filenames):\n",
    "    '''\n",
    "    \n",
    "    '''\n",
    "    \n",
    "    # join them and separate by a line separator\n",
    "    filenames_string = '\\n'.join(filenames)\n",
    "    \n",
    "    return filenames_string"
   ]
  },
  {
   "cell_type": "code",
   "execution_count": 105,
   "id": "59170484",
   "metadata": {},
   "outputs": [
    {
     "data": {
      "text/plain": [
       "'IMG_20180201_161822 (1).jpg\\nScreenshot_20171225-113409.png\\nSnapchat-1225537317.mp4\\nWIN_20220906_11_22_52_Pro.mp4\\nreceived_10204964983279784.jpeg\\nresults_screenshot.jpg'"
      ]
     },
     "execution_count": 105,
     "metadata": {},
     "output_type": "execute_result"
    }
   ],
   "source": [
    "filenames_list_to_string(filenames)"
   ]
  },
  {
   "cell_type": "markdown",
   "id": "135ad061",
   "metadata": {},
   "source": [
    "Now, let's create a `.txt` file of the name `jpegs`, and write in it the name of the files we want in this \"folder\". Then we can read all these lines back into a list:"
   ]
  },
  {
   "cell_type": "code",
   "execution_count": 114,
   "id": "f9015955",
   "metadata": {},
   "outputs": [
    {
     "name": "stdout",
     "output_type": "stream",
     "text": [
      "File created.\n"
     ]
    },
    {
     "data": {
      "text/plain": [
       "['C:\\\\Users\\\\seani\\\\Documents\\\\Projects\\\\FileManager\\\\assets\\\\mixed\\\\IMG_20180201_161822 (1).jpg',\n",
       " 'C:\\\\Users\\\\seani\\\\Documents\\\\Projects\\\\FileManager\\\\assets\\\\mixed\\\\Screenshot_20171225-113409.png',\n",
       " 'C:\\\\Users\\\\seani\\\\Documents\\\\Projects\\\\FileManager\\\\assets\\\\mixed\\\\Snapchat-1225537317.mp4',\n",
       " 'C:\\\\Users\\\\seani\\\\Documents\\\\Projects\\\\FileManager\\\\assets\\\\mixed\\\\WIN_20220906_11_22_52_Pro.mp4',\n",
       " 'C:\\\\Users\\\\seani\\\\Documents\\\\Projects\\\\FileManager\\\\assets\\\\mixed\\\\received_10204964983279784.jpeg',\n",
       " 'C:\\\\Users\\\\seani\\\\Documents\\\\Projects\\\\FileManager\\\\assets\\\\mixed\\\\results_screenshot.jpg']"
      ]
     },
     "execution_count": 114,
     "metadata": {},
     "output_type": "execute_result"
    }
   ],
   "source": [
    "# create file and write data to it\n",
    "with open('jpegs.txt', 'w') as f:\n",
    "    f.write(filenames_list_to_string(get_filenames(mixed, mode='absolute')))\n",
    "\n",
    "print('File created.')\n",
    "\n",
    "# list to store file paths\n",
    "lines_list = []\n",
    "# read data from file\n",
    "with open('jpegs.txt', 'r') as f:\n",
    "    # get all lines\n",
    "    lines = f.readlines()\n",
    "    # pass through each except last\n",
    "    for line in lines[:-1]:\n",
    "        # remove \\n\n",
    "        lines_list.append(line[:-1])\n",
    "    # last one is special as it does not have \\n\n",
    "    lines_list.append(lines[-1])\n",
    "\n",
    "lines_list"
   ]
  },
  {
   "cell_type": "code",
   "execution_count": null,
   "id": "741d9238",
   "metadata": {},
   "outputs": [],
   "source": []
  }
 ],
 "metadata": {
  "kernelspec": {
   "display_name": "Python 3 (ipykernel)",
   "language": "python",
   "name": "python3"
  },
  "language_info": {
   "codemirror_mode": {
    "name": "ipython",
    "version": 3
   },
   "file_extension": ".py",
   "mimetype": "text/x-python",
   "name": "python",
   "nbconvert_exporter": "python",
   "pygments_lexer": "ipython3",
   "version": "3.9.7"
  }
 },
 "nbformat": 4,
 "nbformat_minor": 5
}
